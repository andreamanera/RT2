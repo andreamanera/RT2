{
 "cells": [
  {
   "cell_type": "markdown",
   "id": "d76dac5c",
   "metadata": {},
   "source": [
    "# Import libraries"
   ]
  },
  {
   "cell_type": "code",
   "execution_count": 1,
   "id": "8671b29d",
   "metadata": {
    "ExecuteTime": {
     "end_time": "2022-04-30T14:20:48.784904Z",
     "start_time": "2022-04-30T14:20:47.416188Z"
    },
    "scrolled": true
   },
   "outputs": [],
   "source": [
    "from ipywidgets import Button, Layout, ButtonStyle, GridBox, VBox, HBox\n",
    "import ipywidgets as widgets\n",
    "import jupyros as jr\n",
    "import rospy\n",
    "from std_msgs.msg import String\n",
    "from jupyros import ros3d\n",
    "import matplotlib.pyplot as plt\n",
    "import numpy as np\n",
    "from matplotlib.animation import FuncAnimation\n",
    "from tf import transformations\n",
    "\n",
    "from move_base_msgs.msg import MoveBaseActionGoal\n",
    "from geometry_msgs.msg import Twist\n",
    "from sensor_msgs.msg import LaserScan\n",
    "from actionlib_msgs.msg import GoalID, GoalStatusArray\n",
    "from nav_msgs.msg import Odometry\n",
    "\n",
    "\n",
    "from random import seed\n",
    "from random import randint\n",
    "\n",
    "from IPython.display import clear_output\n",
    "\n"
   ]
  },
  {
   "cell_type": "markdown",
   "id": "a484de65",
   "metadata": {
    "ExecuteTime": {
     "end_time": "2022-04-29T17:10:47.989718Z",
     "start_time": "2022-04-29T17:10:47.984976Z"
    }
   },
   "source": [
    "# Define variables and publishers"
   ]
  },
  {
   "cell_type": "markdown",
   "id": "e5caf716",
   "metadata": {},
   "source": [
    "## First Modality - Reach a given position"
   ]
  },
  {
   "cell_type": "code",
   "execution_count": 2,
   "id": "bcd674de",
   "metadata": {
    "ExecuteTime": {
     "end_time": "2022-04-30T14:20:48.804618Z",
     "start_time": "2022-04-30T14:20:48.793236Z"
    }
   },
   "outputs": [],
   "source": [
    "global goal_id\n",
    "global succesful_goal\n",
    "global failed_goal\n",
    "global total_goal\n",
    "global goal_running\n",
    "\n",
    "goal_running = False\n",
    "\n",
    "succesful_goal = 0\n",
    "failed_goal = 0\n",
    "total_goal=0\n",
    "\n",
    "PubGoal = rospy.Publisher(\"/move_base/goal\", MoveBaseActionGoal, queue_size = 1)\n",
    "PubCancel = rospy.Publisher(\"/move_base/cancel\", GoalID, queue_size = 1)"
   ]
  },
  {
   "cell_type": "markdown",
   "id": "005d016c",
   "metadata": {},
   "source": [
    "## Second & Third Modality - Drive the robot (with or without collision avoidance)"
   ]
  },
  {
   "cell_type": "code",
   "execution_count": 3,
   "id": "aae54a1e",
   "metadata": {
    "ExecuteTime": {
     "end_time": "2022-04-30T14:20:48.826369Z",
     "start_time": "2022-04-30T14:20:48.808628Z"
    }
   },
   "outputs": [],
   "source": [
    "global linear\n",
    "global angular\n",
    "global linear_velocity\n",
    "global angular_velocity\n",
    "global velocity\n",
    "global th\n",
    "global obstacle_avoidance\n",
    "\n",
    "linear = 0\n",
    "angular = 0\n",
    "linear_velocity = 0.2\n",
    "angular_velocity = 0.5\n",
    "velocity = Twist()\n",
    "th = 1\n",
    "obstacle_avoidance = False\n",
    "\n",
    "pub_vel = rospy.Publisher(\"/cmd_vel\", Twist, queue_size = 1)\n"
   ]
  },
  {
   "cell_type": "markdown",
   "id": "51a40527",
   "metadata": {
    "heading_collapsed": true
   },
   "source": [
    "# Widget Definition"
   ]
  },
  {
   "cell_type": "markdown",
   "id": "b74fcf89",
   "metadata": {
    "heading_collapsed": true,
    "hidden": true
   },
   "source": [
    "## Initial choose between modalities"
   ]
  },
  {
   "cell_type": "code",
   "execution_count": 4,
   "id": "be9c7d27",
   "metadata": {
    "ExecuteTime": {
     "end_time": "2022-04-30T14:20:48.889326Z",
     "start_time": "2022-04-30T14:20:48.829108Z"
    },
    "hidden": true
   },
   "outputs": [],
   "source": [
    "output = widgets.Output()\n",
    "\n",
    "button1 = Button(description='Reach autonomousely a given position',\n",
    "    tooltip='Reach autonomousely a given position',\n",
    "layout=Layout(width='33%', height='100px', align=\"center\", grid_area='b1'),\n",
    "style=ButtonStyle(button_color='blue'))\n",
    "\n",
    "button2 = Button(description='Drive the robot with your keyboard',\n",
    "    tooltip='Drive the robot with your keyboard',\n",
    "layout=Layout(width='33%',height='100px', grid_area='b2'),\n",
    "style=ButtonStyle(button_color='white'))\n",
    "\n",
    "button3 = Button(description='Drive the robot with your keyboard with assisted obstacles avoidance',\n",
    "    tooltip='Drive the robot with your keyboard with assisted obstacles avoidance',\n",
    "layout=Layout(width='33%', height='100px', grid_area='b3'),\n",
    "style=ButtonStyle(button_color='red'))\n",
    "\n",
    "mod_menu = HBox([button1,button2,button3])"
   ]
  },
  {
   "cell_type": "markdown",
   "id": "53dc5ca4",
   "metadata": {
    "heading_collapsed": true,
    "hidden": true
   },
   "source": [
    "## First Modality - reach a given position"
   ]
  },
  {
   "cell_type": "code",
   "execution_count": 5,
   "id": "f1fd364d",
   "metadata": {
    "ExecuteTime": {
     "end_time": "2022-04-30T14:20:48.987868Z",
     "start_time": "2022-04-30T14:20:48.891221Z"
    },
    "hidden": true
   },
   "outputs": [],
   "source": [
    "choose_button = Button(description='Choose goal',\n",
    "    tooltip='Choose goal',\n",
    "layout=Layout(width='50%', height='100px', grid_area='b1'),\n",
    "button_style='info')\n",
    "\n",
    "cancel_button = Button(description='Cancel goal',\n",
    "    tooltip='Cancel goal',\n",
    "layout=Layout(width='50%',height='100px', grid_area='b2'),\n",
    "button_style='danger')\n",
    "\n",
    "yes_button = Button(description='Yes',\n",
    "    tooltip='Set new goal',\n",
    "layout=Layout(width='50%', height='100px', grid_area='b1'),\n",
    "button_style='info')\n",
    "\n",
    "no_button = Button(description='No',\n",
    "    tooltip='Go back to the menu',\n",
    "layout=Layout(width='50%',height='100px', grid_area='b2'),\n",
    "button_style='danger')\n",
    "\n",
    "goalx = widgets.FloatText(\n",
    "    value=0,\n",
    "    description='X:',\n",
    "    disabled=False\n",
    ")\n",
    "goaly = widgets.FloatText(\n",
    "    value=0,\n",
    "    description='Y:',\n",
    "    disabled=False\n",
    ")\n",
    "\n",
    "ContinueBox=HBox([yes_button,no_button])\n",
    "GoalBox = HBox([goalx, goaly])\n"
   ]
  },
  {
   "cell_type": "markdown",
   "id": "cb4b8757",
   "metadata": {
    "heading_collapsed": true,
    "hidden": true
   },
   "source": [
    "## Second & Third Modality - Drive the robot without obs avoidance & with obs avoidance"
   ]
  },
  {
   "cell_type": "code",
   "execution_count": 6,
   "id": "98df598e",
   "metadata": {
    "ExecuteTime": {
     "end_time": "2022-04-30T14:20:49.219320Z",
     "start_time": "2022-04-30T14:20:48.990277Z"
    },
    "hidden": true
   },
   "outputs": [
    {
     "data": {
      "application/vnd.jupyter.widget-view+json": {
       "model_id": "719e07d5363140dbb12fc50ea9710986",
       "version_major": 2,
       "version_minor": 0
      },
      "text/plain": [
       "VBox(children=(HBox(children=(Button(description='Left and Forward', layout=Layout(grid_area='b1', height='40p…"
      ]
     },
     "metadata": {},
     "output_type": "display_data"
    }
   ],
   "source": [
    "l_f_b = Button(description='Left and Forward',\n",
    "    tooltip='Turn left and go forward',\n",
    "layout=Layout(width='50%', height='40px', grid_area='b1'),\n",
    "style=ButtonStyle(button_color='blue'))\n",
    "f_b = Button(description='Forward',\n",
    "    tooltip='Go forward',\n",
    "layout=Layout(width='50%', height='40px', grid_area='b1'),\n",
    "style=ButtonStyle(button_color='white'))\n",
    "r_f_b = Button(description='Right and Forward',\n",
    "    tooltip='Turn right and go forward',\n",
    "layout=Layout(width='50%', height='40px', grid_area='b1'),\n",
    "style=ButtonStyle(button_color='red'))\n",
    "\n",
    "l_b = Button(description='Left',\n",
    "    tooltip='Turn left',\n",
    "layout=Layout(width='50%', height='40px', grid_area='b1'),\n",
    "style=ButtonStyle(button_color='blue'))\n",
    "stop_b = Button(description='Stop',\n",
    "    tooltip='Stop moving',\n",
    "layout=Layout(width='50%', height='40px', grid_area='b1'),\n",
    "style=ButtonStyle(button_color='white'))\n",
    "r_b = Button(description='Right',\n",
    "    tooltip='Turn right',\n",
    "layout=Layout(width='50%', height='40px', grid_area='b1'),\n",
    "style=ButtonStyle(button_color='red'))\n",
    "\n",
    "l_b_b = Button(description='Left and Backward',\n",
    "    tooltip='Turn left and go backward',\n",
    "layout=Layout(width='50%', height='40px', grid_area='b1'),\n",
    "style=ButtonStyle(button_color='blue'))\n",
    "b_b = Button(description='Backward',\n",
    "    tooltip='Go backward',\n",
    "layout=Layout(width='50%', height='40px', grid_area='b1'),\n",
    "style=ButtonStyle(button_color='white'))\n",
    "r_b_b = Button(description='Right and Backward',\n",
    "    tooltip='Turn right and go backward',\n",
    "layout=Layout(width='50%', height='40px', grid_area='b1'),\n",
    "style=ButtonStyle(button_color='red'))\n",
    "\n",
    "declin_b = Button(description='Decrease linear vel',\n",
    "    tooltip='Reduce linear velocity by 10%',\n",
    "layout=Layout(width='50%', height='40px', grid_area='b1'))\n",
    "resetlin_b = Button(description='reset linear velocity',\n",
    "    tooltip='Reset linear velocity',\n",
    "layout=Layout(width='50%', height='40px', grid_area='b1'))\n",
    "incrlin_b = Button(description='Increase linear vel',\n",
    "    tooltip='Increase linear velocity by 10%',\n",
    "layout=Layout(width='50%', height='40px', grid_area='b1'))\n",
    "\n",
    "decang_b = Button(description='Decrease angular vel',\n",
    "    tooltip='Reduce angular velocity by 10%',\n",
    "layout=Layout(width='50%', height='40px', grid_area='b1'))\n",
    "resetang_b = Button(description='Reset angular velocity',\n",
    "    tooltip='Reset angular velocity',\n",
    "layout=Layout(width='50%', height='40px', grid_area='b1'))\n",
    "incrang_b = Button(description='Increase angular vel',\n",
    "    tooltip='Increase angular velocity by 10%',\n",
    "layout=Layout(width='50%', height='40px', grid_area='b1'))\n",
    "\n",
    "decall_b = Button(description='Decerease both vel',\n",
    "    tooltip='Reduce angular and linear velocity by 10%',\n",
    "layout=Layout(width='50%', height='40px', grid_area='b1'))\n",
    "resetall_b = Button(description='reset lin & ang velocity',\n",
    "    tooltip='Reset angular and linear velocity',\n",
    "layout=Layout(width='50%', height='40px', grid_area='b1'))\n",
    "incrall_b = Button(description='Increase lin & ang',\n",
    "    tooltip='Increase angular and linear velocity by 10%',\n",
    "layout=Layout(width='50%', height='40px', grid_area='b1'))\n",
    "\n",
    "menu_button = Button(description='Back to menu',\n",
    "    tooltip='Go back to the initial menu',\n",
    "layout=Layout(width='100%', height='80px', grid_area='b1'),\n",
    "style=ButtonStyle(button_color='orange'))\n",
    "\n",
    "\n",
    "first_row=HBox([l_f_b,f_b,r_f_b])\n",
    "second_row=HBox([l_b,stop_b,r_b])\n",
    "third_row=HBox([l_b_b,b_b,r_b_b])\n",
    "\n",
    "fourth_row=HBox([decang_b,resetang_b,incrang_b])\n",
    "fifth_row=HBox([declin_b,resetlin_b,incrlin_b])\n",
    "sixth_row=HBox([decall_b,resetall_b,incrall_b])\n",
    "\n",
    "control = VBox([first_row,second_row,third_row,fourth_row,fifth_row,sixth_row,menu_button])\n",
    "display(control)"
   ]
  },
  {
   "cell_type": "markdown",
   "id": "7fccc18f",
   "metadata": {},
   "source": [
    "# code for the three modalities"
   ]
  },
  {
   "cell_type": "markdown",
   "id": "eea6b3b9",
   "metadata": {},
   "source": [
    "### First Modality - Reach a given position"
   ]
  },
  {
   "cell_type": "code",
   "execution_count": 7,
   "id": "a5dbd4a4",
   "metadata": {
    "ExecuteTime": {
     "end_time": "2022-04-30T14:20:49.254778Z",
     "start_time": "2022-04-30T14:20:49.230865Z"
    },
    "scrolled": false
   },
   "outputs": [],
   "source": [
    "def mod1(b):\n",
    "    clear_output(wait=True)\n",
    "    display(GoalBox)\n",
    "    display(choose_button)\n",
    "    \n",
    "def send_goal_coordinates(b):\n",
    "    clear_output(wait=True)\n",
    "    print(\"Goal position: X=\",goalx.value,\", Y=\",goaly.value)\n",
    "    display(cancel_button)\n",
    "    \n",
    "    global goal_running\n",
    "    goal_running = True\n",
    "    global goal_id\n",
    "    goal_id = randint(1000,10000)\n",
    "    \n",
    "    goal = MoveBaseActionGoal()\n",
    "\n",
    "    goal.goal.target_pose.pose.position.x = goalx.value\n",
    "    goal.goal.target_pose.pose.position.y = goaly.value\n",
    "    goal.goal.target_pose.pose.orientation.w = 1\n",
    "    goal.goal.target_pose.header.frame_id = \"map\"\n",
    "    goal.goal_id.id=str(goal_id)\n",
    "    \n",
    "    global total_goal\n",
    "    \n",
    "    PubGoal.publish(goal)\n",
    "    \n",
    "    total_goal += 1\n",
    "    \n",
    "def cancel_goal(b):\n",
    "    global goal_id\n",
    "    global goal_running\n",
    "    \n",
    "    clear_output(wait=True)\n",
    "    \n",
    "    goal_cancel = GoalID()\n",
    "    goal_cancel.id=str(goal_id)\n",
    "    PubCancel.publish(goal_cancel)\n",
    "    print(\"goal deleted\")\n",
    "    goal_running = False\n",
    "    print(\"Do you want to set another goal?\")\n",
    "    display(ContinueBox)\n",
    "\n",
    "def goal_status_handler(msg):\n",
    "    global goal_id\n",
    "    global goal_running\n",
    "    global succesful_goal\n",
    "    global failed_goal\n",
    "    \n",
    "    if goal_running == True:\n",
    "        \n",
    "        status=0\n",
    "        if msg.status_list[0].goal_id.id == str(goal_id):\n",
    "            status = msg.status_list[0].status\n",
    "\n",
    "        if status==3:\n",
    "            clear_output(wait=True)\n",
    "            \n",
    "            print(\"goal reached!\")\n",
    "            succesful_goal+=1\n",
    "            goal_running = False\n",
    "            print(\"Do you want to set another goal?\")\n",
    "            display(ContinueBox)\n",
    "            \n",
    "        \n",
    "        if status==4:\n",
    "            clear_output(wait=True)\n",
    "            \n",
    "            print(\"The goal can not be reached.\")\n",
    "            failed_goal+=1\n",
    "            goal_running = False\n",
    "            print(\"Do you want to set another goal?\")\n",
    "            display(ContinueBox)\n",
    "            \n",
    "def back_to_menu_mod1(b):\n",
    "    clear_output(wait=True)\n",
    "    display(mod_menu)\n",
    "\n"
   ]
  },
  {
   "cell_type": "markdown",
   "id": "766fb016",
   "metadata": {
    "heading_collapsed": true
   },
   "source": [
    "### Second & Third Modality - Drive the robot without obs avoidance & with obs avoidance"
   ]
  },
  {
   "cell_type": "code",
   "execution_count": 8,
   "id": "c3b10fb4",
   "metadata": {
    "ExecuteTime": {
     "end_time": "2022-04-30T14:20:49.282154Z",
     "start_time": "2022-04-30T14:20:49.259805Z"
    },
    "hidden": true
   },
   "outputs": [],
   "source": [
    "def mod2(b):\n",
    "    clear_output(wait=True)\n",
    "    display(control)\n",
    "    \n",
    "def mod3(b):\n",
    "    global obstacle_avoidance\n",
    "    obstacle_avoidance=True\n",
    "    clear_output(wait=True)\n",
    "    display(control)\n",
    "    \n",
    "def publish_vel():\n",
    "    global linear\n",
    "    global angular\n",
    "    global linear_velocity\n",
    "    global angular_velocity\n",
    "    global velocity\n",
    "    \n",
    "    velocity.angular.z=angular_velocity*angular\n",
    "    velocity.linear.x=linear_velocity*linear\n",
    "    \n",
    "    pub_vel.publish(velocity)    \n",
    "    \n",
    "    \n",
    "def l_f(b):\n",
    "    global linear\n",
    "    global angular\n",
    "    linear=1\n",
    "    angular=1\n",
    "    publish_vel()\n",
    "    \n",
    "def f(b):\n",
    "    global linear\n",
    "    global angular\n",
    "    linear=1\n",
    "    angular=0\n",
    "    publish_vel()\n",
    "    \n",
    "def r_f(b):\n",
    "    global linear\n",
    "    global angular\n",
    "    linear=1\n",
    "    angular=-1\n",
    "    publish_vel()\n",
    "    \n",
    "def l(b):\n",
    "    global linear\n",
    "    global angular\n",
    "    linear=0\n",
    "    angular=1\n",
    "    publish_vel()\n",
    "    \n",
    "def stop(b):\n",
    "    global linear\n",
    "    global angular\n",
    "    linear=0\n",
    "    angular=0\n",
    "    publish_vel()\n",
    "    \n",
    "def r(b):\n",
    "    global linear\n",
    "    global angular\n",
    "    linear=0\n",
    "    angular=-1\n",
    "    publish_vel()\n",
    "    \n",
    "def lb(b):\n",
    "    global linear\n",
    "    global angular\n",
    "    linear=-1\n",
    "    angular=1\n",
    "    publish_vel()\n",
    "    \n",
    "def b(b):\n",
    "    global linear\n",
    "    global angular\n",
    "    linear=-1\n",
    "    angular=0\n",
    "    publish_vel()\n",
    "    \n",
    "def rb(b):\n",
    "    global linear\n",
    "    global angular\n",
    "    linear=-1\n",
    "    angular=-1\n",
    "    publish_vel()\n",
    "    \n",
    "def dec_ang(b):\n",
    "    global angular_velocity\n",
    "    angular_velocity *= 0.9\n",
    "    publish_vel()\n",
    "    \n",
    "def reset_ang(b):\n",
    "    global angular_velocity\n",
    "    angular_velocity = 1\n",
    "    publish_vel()\n",
    "    \n",
    "def acc_ang(b):\n",
    "    global angular_velocity\n",
    "    angular_velocity *= 1.1\n",
    "    publish_vel()\n",
    "    \n",
    "def dec_lin(b):\n",
    "    global linear_velocity\n",
    "    linear_velocity *= 0.9\n",
    "    publish_vel()\n",
    "    \n",
    "def reset_lin(b):\n",
    "    global linear_velocity\n",
    "    linear_velocity = 1\n",
    "    publish_vel()\n",
    "    \n",
    "def acc_lin(b):\n",
    "    global linear_velocity\n",
    "    linear_velocity *= 1.1\n",
    "    publish_vel()\n",
    "    \n",
    "def dec_all(b):\n",
    "    global linear_velocity\n",
    "    global angular_velocity\n",
    "    linear_velocity *= 0.9\n",
    "    angular_velocity *= 0.9\n",
    "    publish_vel()\n",
    "    \n",
    "def reset_all(b):\n",
    "    global linear_velocity\n",
    "    global angular_velocity\n",
    "    linear_velocity = 0.5\n",
    "    angular_velocity = 1\n",
    "    publish_vel()\n",
    "    \n",
    "def acc_all(b):\n",
    "    global linear_velocity\n",
    "    global angular_velocity\n",
    "    linear_velocity *= 1.1\n",
    "    angular_velocity *= 1.1 \n",
    "    publish_vel()\n",
    "    \n",
    "def check_walls(angle_range, min_value, max_value):\n",
    "    value = 100\n",
    "    \n",
    "    for i in range(min_value, max_value):\n",
    "        if angle_range[i] < value:\n",
    "            value = angle_range[i]\n",
    "    return value\n",
    "\n",
    "def obstacle_avoidance(msg):\n",
    "    \n",
    "    global angular\n",
    "    global linear\n",
    "    global velocity\n",
    "    global th\n",
    "    global obstacle_avoidance\n",
    "    \n",
    "    if obstacle_avoidance==True: \n",
    "    \n",
    "        right_wall = check_walls(msg.ranges, 0, 159)\n",
    "        left_wall = check_walls(msg.ranges, 560, 719)\n",
    "        front_wall = check_walls(msg.ranges, 281, 440)\n",
    "    \n",
    "        if front_wall < th and velocity.linear.x > 0:\n",
    "                linear = 0\n",
    "            \n",
    "        if right_wall < th and velocity.angular.z < 0:\n",
    "                angular = 0\n",
    "\n",
    "        if left_wall < th and velocity.angular.z >0:\n",
    "                angular =0\n",
    "               \n",
    "        publish_vel()\n",
    "    \n",
    "def back_to_menu_mod2_3(b):\n",
    "    global linear\n",
    "    global angular\n",
    "    global linear_velocity\n",
    "    global angular_velocity\n",
    "    global velocity\n",
    "    global th\n",
    "    global obstacle_avoidance\n",
    "    \n",
    "    obstacle_avoidance = False\n",
    "    linear = 0\n",
    "    angular = 0\n",
    "    linear_velocity = 0.2\n",
    "    angular_velocity = 0.5\n",
    "    \n",
    "    publish_vel()\n",
    "    \n",
    "    clear_output(wait=True)\n",
    "    display(mod_menu)\n",
    "   \n",
    "    \n",
    "    \n",
    "    "
   ]
  },
  {
   "cell_type": "markdown",
   "id": "a369e9bf",
   "metadata": {},
   "source": [
    "## Associate button with the right callback"
   ]
  },
  {
   "cell_type": "markdown",
   "id": "1c8161d2",
   "metadata": {},
   "source": [
    "### First Modality - Reach a given position"
   ]
  },
  {
   "cell_type": "code",
   "execution_count": 9,
   "id": "4919fad2",
   "metadata": {
    "ExecuteTime": {
     "end_time": "2022-04-30T14:20:49.309911Z",
     "start_time": "2022-04-30T14:20:49.285923Z"
    },
    "scrolled": true
   },
   "outputs": [],
   "source": [
    "button1.on_click(mod1)\n",
    "choose_button.on_click(send_goal_coordinates)\n",
    "cancel_button.on_click(cancel_goal)\n",
    "yes_button.on_click(mod1)\n",
    "no_button.on_click(back_to_menu_mod1)"
   ]
  },
  {
   "cell_type": "markdown",
   "id": "f108d5eb",
   "metadata": {},
   "source": [
    "### Second & Third Modality - Drive the robot without obs avoidance & with obs avoidance"
   ]
  },
  {
   "cell_type": "code",
   "execution_count": 10,
   "id": "f0a13073",
   "metadata": {
    "ExecuteTime": {
     "end_time": "2022-04-30T14:20:49.328139Z",
     "start_time": "2022-04-30T14:20:49.311725Z"
    }
   },
   "outputs": [],
   "source": [
    "button2.on_click(mod2)\n",
    "button3.on_click(mod3)\n",
    "\n",
    "l_f_b.on_click(l_f)\n",
    "f_b.on_click(f)\n",
    "r_f_b.on_click(r_f)\n",
    "\n",
    "l_b.on_click(l)\n",
    "stop_b.on_click(stop)\n",
    "r_b.on_click(r)\n",
    "\n",
    "l_b_b.on_click(l_b)\n",
    "b_b.on_click(b)\n",
    "r_b_b.on_click(r_b)\n",
    "\n",
    "decang_b.on_click(dec_ang)\n",
    "resetang_b.on_click(reset_ang)\n",
    "incrang_b.on_click(acc_ang)\n",
    "\n",
    "declin_b.on_click(dec_lin)\n",
    "resetlin_b.on_click(reset_lin)\n",
    "incrlin_b.on_click(acc_lin)\n",
    "\n",
    "decall_b.on_click(dec_all)\n",
    "resetall_b.on_click(reset_all)\n",
    "incrall_b.on_click(acc_all)\n",
    "\n",
    "menu_button.on_click(back_to_menu_mod2_3)"
   ]
  },
  {
   "cell_type": "markdown",
   "id": "f5630fa9",
   "metadata": {
    "heading_collapsed": true
   },
   "source": [
    "# Functions for Data Visualisation"
   ]
  },
  {
   "cell_type": "code",
   "execution_count": 13,
   "id": "04262e07",
   "metadata": {
    "ExecuteTime": {
     "end_time": "2022-04-30T14:20:49.358640Z",
     "start_time": "2022-04-30T14:20:49.330685Z"
    },
    "hidden": true
   },
   "outputs": [],
   "source": [
    "class Visualiser:\n",
    "    \n",
    "    def __init__(self):\n",
    "        self.fig_scan= plt.figure(figsize=(6,6))\n",
    "        self.ax_scan = plt.subplot(111, polar=True)\n",
    "        self.ax_scan.set_thetalim(-np.pi/2,np.pi/2)\n",
    "        self.ax_scan.set_theta_zero_location(\"N\")\n",
    "        self.laser  = [] \n",
    "        self.angles = []\n",
    "        self.ln_scan, = self.ax_scan.plot([],[],'bo')\n",
    "        \n",
    "        self.fig_odom, self.ax_odom = plt.subplots()\n",
    "        plt.grid(True)\n",
    "        self.x_pos, self.y_pos = [], []\n",
    "        self.ln_odom, = plt.plot([] ,[], 'bo')\n",
    "        \n",
    "        global succesful_goal\n",
    "        global failed_goal\n",
    "        global total_goal\n",
    "        \n",
    "        self.achieved = False\n",
    "\n",
    "        self.fig_goal, self.ax_goal = plt.subplots()\n",
    "        plt.grid(True)\n",
    "        self.status_list = [0, 0]\n",
    "        self.data = {'Successful Goals': succesful_goal, \n",
    "                     'Failed Goals': failed_goal, \n",
    "                     'Total Goals': total_goal}\n",
    "        \n",
    "        self.goal = list(self.data.keys())\n",
    "        self.values = list(self.data.values())\n",
    "        self.ln_goal = plt.bar(self.goal, self.values, color=(\"blue\", \"red\", \"yellow\"))\n",
    "        \n",
    "    def plot_init(self):\n",
    "    \n",
    "        \n",
    "        self.ax_scan.set_title(\"Laser Scan\")\n",
    "        self.ax_scan.set_ylabel(\"Wall distancce\",fontweight=\"bold\")\n",
    "        \n",
    "        self.ax_odom.set_xlim(-20, 20)\n",
    "        self.ax_odom.set_ylim(-20, 20)\n",
    "        self.ax_odom.set_title(\"Robot Position\",fontweight=\"bold\")\n",
    "        self.ax_odom.set_ylabel(\"Y\",fontweight=\"bold\")\n",
    "        self.ax_odom.set_xlabel(\"X\",fontweight=\"bold\")\n",
    "\n",
    "        self.ax_goal.set_ylim(0, 10)\n",
    "        \n",
    "        return self.ln_scan , self.ln_odom, self.ln_goal    \n",
    "        \n",
    "        \n",
    "    def laser_scan_callback(self, msg):\n",
    "        \n",
    "        self.angles = list(np.arange(msg.angle_min, msg.angle_max+msg.angle_increment, msg.angle_increment))\n",
    "        self.laser=list(msg.ranges)\n",
    "        \n",
    "        \n",
    "    def odometry_callback(self,msg):\n",
    "        self.y_pos.append(msg.pose.pose.position.y)\n",
    "        self.x_pos.append(msg.pose.pose.position.x)\n",
    "        \n",
    "    def update_odom_plot(self, frame):\n",
    "        x = self.x_pos\n",
    "        y = self.y_pos\n",
    "        self.ln_odom.set_data(x, y)\n",
    "        return self.ln_odom\n",
    "    \n",
    "    \n",
    "    def update_goal_plot(self, frame):\n",
    "        global succesful_goal\n",
    "        global failed_goal\n",
    "        global total_goal\n",
    "        \n",
    "        \n",
    "        x = total_goal\n",
    "        y = failed_goal\n",
    "        z = succesful_goal\n",
    "        self.updated_data = {'Successful Goals': succesful_goal, \n",
    "                             'Failed Goals': failed_goal, \n",
    "                             'Total Goals': total_goal}\n",
    "        \n",
    "        values = list(self.updated_data.values())\n",
    "        keys = list(self.updated_data.keys())\n",
    "        \n",
    "        self.ln_goal = plt.bar(keys, values, color=(\"blue\", \"red\", \"yellow\"))\n",
    "        \n",
    "        return self.ln_goal\n",
    "    \n",
    "    def update_polar_plot(self, frame):  \n",
    "        self.ax_scan.set_rmax(20)\n",
    "        self.ln_scan.set_data(self.angles,self.laser)\n",
    "        return self.ln_scan\n"
   ]
  },
  {
   "cell_type": "markdown",
   "id": "86261b72",
   "metadata": {},
   "source": [
    "# Init Ros and Subscribers"
   ]
  },
  {
   "cell_type": "code",
   "execution_count": 14,
   "id": "ed17c636",
   "metadata": {
    "ExecuteTime": {
     "end_time": "2022-04-30T14:20:49.570395Z",
     "start_time": "2022-04-30T14:20:49.361702Z"
    }
   },
   "outputs": [],
   "source": [
    "\n",
    "rospy.init_node(\"AssignmentAM\")\n",
    "sub_goal = rospy.Subscriber('/move_base/status', GoalStatusArray, goal_status_handler)\n",
    "sub_scan = rospy.Subscriber('/scan', LaserScan, obstacle_avoidance)\n",
    "\n",
    "\n"
   ]
  },
  {
   "cell_type": "markdown",
   "id": "7c77c2af",
   "metadata": {},
   "source": [
    "# Run the code & command the Robot here"
   ]
  },
  {
   "cell_type": "code",
   "execution_count": 15,
   "id": "9c26fae4",
   "metadata": {
    "ExecuteTime": {
     "end_time": "2022-04-30T14:20:49.600295Z",
     "start_time": "2022-04-30T14:20:49.578296Z"
    },
    "scrolled": false
   },
   "outputs": [
    {
     "data": {
      "application/vnd.jupyter.widget-view+json": {
       "model_id": "9f9c8bed6b5a46b8b25b0f555efffb9d",
       "version_major": 2,
       "version_minor": 0
      },
      "text/plain": [
       "HBox(children=(Button(description='Reach autonomousely a given position', layout=Layout(grid_area='b1', height…"
      ]
     },
     "metadata": {},
     "output_type": "display_data"
    }
   ],
   "source": [
    "display(mod_menu)"
   ]
  },
  {
   "cell_type": "markdown",
   "id": "2bb3570d",
   "metadata": {},
   "source": [
    "# Visualize Data"
   ]
  },
  {
   "cell_type": "code",
   "execution_count": null,
   "id": "8b0ff4b8",
   "metadata": {
    "ExecuteTime": {
     "end_time": "2022-04-30T14:22:41.703950Z",
     "start_time": "2022-04-30T14:22:41.446690Z"
    },
    "scrolled": true
   },
   "outputs": [],
   "source": [
    "%matplotlib notebook\n",
    "\n",
    "visualiser = Visualiser()\n",
    "sub_odom = rospy.Subscriber('/odom', Odometry, visualiser.odometry_callback)\n",
    "sub_scan2 = rospy.Subscriber('/scan', LaserScan, visualiser.laser_scan_callback)\n",
    "\n",
    "ani_laser = FuncAnimation(visualiser.fig_scan, visualiser.update_polar_plot, blit = True)\n",
    "ani_odom = FuncAnimation(visualiser.fig_odom, visualiser.update_odom_plot, init_func=visualiser.plot_init)\n",
    "ani_target = FuncAnimation(visualiser.fig_goal, visualiser.update_goal_plot, init_func=visualiser.plot_init)\n",
    "\n",
    "plt.show(block=True)"
   ]
  },
  {
   "cell_type": "code",
   "execution_count": null,
   "id": "5a65b6dc",
   "metadata": {
    "ExecuteTime": {
     "start_time": "2022-04-30T11:10:41.034Z"
    }
   },
   "outputs": [],
   "source": []
  }
 ],
 "metadata": {
  "kernelspec": {
   "display_name": "Python 3 (ipykernel)",
   "language": "python",
   "name": "python3"
  },
  "language_info": {
   "codemirror_mode": {
    "name": "ipython",
    "version": 3
   },
   "file_extension": ".py",
   "mimetype": "text/x-python",
   "name": "python",
   "nbconvert_exporter": "python",
   "pygments_lexer": "ipython3",
   "version": "3.8.10"
  },
  "toc": {
   "base_numbering": 1,
   "nav_menu": {},
   "number_sections": true,
   "sideBar": true,
   "skip_h1_title": false,
   "title_cell": "Table of Contents",
   "title_sidebar": "Contents",
   "toc_cell": false,
   "toc_position": {},
   "toc_section_display": true,
   "toc_window_display": false
  },
  "varInspector": {
   "cols": {
    "lenName": 16,
    "lenType": 16,
    "lenVar": 40
   },
   "kernels_config": {
    "python": {
     "delete_cmd_postfix": "",
     "delete_cmd_prefix": "del ",
     "library": "var_list.py",
     "varRefreshCmd": "print(var_dic_list())"
    },
    "r": {
     "delete_cmd_postfix": ") ",
     "delete_cmd_prefix": "rm(",
     "library": "var_list.r",
     "varRefreshCmd": "cat(var_dic_list()) "
    }
   },
   "position": {
    "height": "694.85px",
    "left": "1492px",
    "right": "20px",
    "top": "111px",
    "width": "350px"
   },
   "types_to_exclude": [
    "module",
    "function",
    "builtin_function_or_method",
    "instance",
    "_Feature"
   ],
   "window_display": false
  }
 },
 "nbformat": 4,
 "nbformat_minor": 5
}
